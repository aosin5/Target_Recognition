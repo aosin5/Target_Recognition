{
 "cells": [
  {
   "cell_type": "markdown",
   "metadata": {},
   "source": [
    "# 二値化画像作成アプリケーション\n",
    "[OpenCV: GUI機能](http://labs.eecs.tottori-u.ac.jp/sd/Member/oyamada/OpenCV/html/py_tutorials/py_gui/py_table_of_contents_gui/py_table_of_contents_gui.html#py-table-of-content-gui)  "
   ]
  },
  {
   "cell_type": "code",
   "execution_count": 1,
   "metadata": {},
   "outputs": [],
   "source": [
    "import numpy as np\n",
    "import matplotlib.pyplot as plt\n",
    "import cv2"
   ]
  },
  {
   "cell_type": "markdown",
   "metadata": {},
   "source": [
    "## 準備"
   ]
  },
  {
   "cell_type": "code",
   "execution_count": 2,
   "metadata": {},
   "outputs": [],
   "source": [
    "def get_th_rgb(img_blur,r1,g1,b1,r2,g2,b2):\n",
    "    img_rgb = img_blur.copy()                            # rgbスケール\n",
    "    rgb_min = np.array([r1,g1,b1], np.uint8)\n",
    "    rgb_max = np.array([r2,g2,b2], np.uint8)\n",
    "    th      = cv2.inRange(img_rgb, rgb_min, rgb_max)\n",
    "    return th"
   ]
  },
  {
   "cell_type": "code",
   "execution_count": 3,
   "metadata": {},
   "outputs": [],
   "source": [
    "def get_th_hsv(img_blur,h1,s1,v1,h2,s2,v2):\n",
    "    img_hsv = cv2.cvtColor(img_blur, cv2.COLOR_RGB2HSV)  # hsvスケール\n",
    "    hsv_min = np.array([h1,s1,v1], np.uint8)\n",
    "    hsv_max = np.array([h2,s2,v2], np.uint8)\n",
    "    th      = cv2.inRange(img_hsv, hsv_min, hsv_max)\n",
    "    return th"
   ]
  },
  {
   "cell_type": "code",
   "execution_count": 4,
   "metadata": {},
   "outputs": [],
   "source": [
    "def get_th_ad1(img_gray, Block_Size, C):\n",
    "    th = cv2.adaptiveThreshold(img_gray, 255, cv2.ADAPTIVE_THRESH_MEAN_C, cv2.THRESH_BINARY, Block_Size, C) # ブロック数, 引く数\n",
    "    return th"
   ]
  },
  {
   "cell_type": "code",
   "execution_count": 5,
   "metadata": {},
   "outputs": [],
   "source": [
    "def get_th(img, val):\n",
    "    # グレースケール画像の準備\n",
    "    img_blur   = cv2.GaussianBlur(img, (5,5), 0)\n",
    "    img_gray   = cv2.cvtColor(img_blur, cv2.COLOR_BGR2GRAY)\n",
    "    \n",
    "    th1 = get_th_rgb(img_blur,val[0],val[1],val[2],val[3],val[4],val[5])   # rgb\n",
    "    th2 = get_th_hsv(img_blur,val[6],val[7],val[8],val[9],val[10],val[11]) # hsv\n",
    "    th3 = get_th_ad1(img_gray,2*val[12]+3,val[13])                             # ad\n",
    "\n",
    "    th = cv2.bitwise_and(th1,th2)\n",
    "    th = cv2.bitwise_and(th, th3)\n",
    "    return th"
   ]
  },
  {
   "cell_type": "code",
   "execution_count": 6,
   "metadata": {},
   "outputs": [],
   "source": [
    "STANDARD_SIZE = (512,300)"
   ]
  },
  {
   "cell_type": "code",
   "execution_count": 7,
   "metadata": {},
   "outputs": [],
   "source": [
    "def nothing(x):\n",
    "    pass"
   ]
  },
  {
   "cell_type": "code",
   "execution_count": null,
   "metadata": {},
   "outputs": [],
   "source": []
  },
  {
   "cell_type": "code",
   "execution_count": null,
   "metadata": {},
   "outputs": [],
   "source": []
  },
  {
   "cell_type": "code",
   "execution_count": null,
   "metadata": {},
   "outputs": [],
   "source": []
  },
  {
   "cell_type": "markdown",
   "metadata": {},
   "source": [
    "## Web カメラで実行"
   ]
  },
  {
   "cell_type": "code",
   "execution_count": 8,
   "metadata": {},
   "outputs": [
    {
     "name": "stdout",
     "output_type": "stream",
     "text": [
      "[25, 60, 85, 150, 175, 170]\n",
      "[95, 75, 90, 165, 170, 145]\n",
      "[3, 255]\n"
     ]
    }
   ],
   "source": [
    "# Create a window\n",
    "cv2.namedWindow('image')\n",
    "\n",
    "# create trackbars for color change\n",
    "trackbar_names = ['R1','G1','B1','R2','G2','B2','H1','S1','V1','H2','S2','V2','BS','C']\n",
    "initial_values = [0,0,0,255,255,255,0,0,0,255,255,255,0,0]\n",
    "for name,val in zip(trackbar_names,initial_values):\n",
    "    cv2.createTrackbar(name,'image',val,255,nothing)\n",
    "\n",
    "# create switch for ON/OFF functionality\n",
    "switch = '0 : OFF \\n1 : ON'\n",
    "cv2.createTrackbar(switch,'image',0,1,nothing)\n",
    "\n",
    "# 0 => IVcan, 1 => Webカメラ\n",
    "cap = cv2.VideoCapture(1)\n",
    "\n",
    "\n",
    "while(1):\n",
    "    ret, img = cap.read()\n",
    "    img      = cv2.resize(img, STANDARD_SIZE)\n",
    "\n",
    "    # get current positions of four trackbars\n",
    "    val_list = [cv2.getTrackbarPos(name,'image') for name in trackbar_names]\n",
    "    s        = cv2.getTrackbarPos(switch,'image')\n",
    "\n",
    "    if s == 0:\n",
    "        th = img\n",
    "    else:\n",
    "        th = get_th(img, val_list)\n",
    "        \n",
    "    cv2.imshow('img',th)\n",
    "    \n",
    "    # キー入力を1ms待って、kが27(Esc)だったらbreakする\n",
    "    k = cv2.waitKey(1)\n",
    "    if k == 27:\n",
    "        break\n",
    "        \n",
    "\n",
    "# キャプチャをリリースして、ウィンドウを全て閉じる\n",
    "cap.release()\n",
    "cv2.destroyAllWindows()\n",
    "\n",
    "# 最後の値を表示\n",
    "print(val_list[0:6])\n",
    "print(val_list[6:12])\n",
    "print([2*val_list[12]+3, val_list[13]])"
   ]
  },
  {
   "cell_type": "code",
   "execution_count": null,
   "metadata": {},
   "outputs": [],
   "source": []
  },
  {
   "cell_type": "code",
   "execution_count": null,
   "metadata": {},
   "outputs": [],
   "source": []
  },
  {
   "cell_type": "code",
   "execution_count": null,
   "metadata": {},
   "outputs": [],
   "source": []
  },
  {
   "cell_type": "markdown",
   "metadata": {},
   "source": [
    "## 画像に対して実行"
   ]
  },
  {
   "cell_type": "code",
   "execution_count": 26,
   "metadata": {},
   "outputs": [],
   "source": [
    "img = cv2.imread(\"data/target7.jpg\")\n",
    "img = cv2.resize(img,STANDARD_SIZE)\n",
    "img_blur   = cv2.GaussianBlur(img, (5,5), 0)\n",
    "img_gray   = cv2.cvtColor(img_blur, cv2.COLOR_BGR2GRAY)\n",
    "th         = img.copy()"
   ]
  },
  {
   "cell_type": "markdown",
   "metadata": {},
   "source": [
    "## RGB用"
   ]
  },
  {
   "cell_type": "code",
   "execution_count": 17,
   "metadata": {},
   "outputs": [
    {
     "name": "stdout",
     "output_type": "stream",
     "text": [
      "0,0,0,255,255,255\n"
     ]
    }
   ],
   "source": [
    "# Create a window\n",
    "cv2.namedWindow('image')\n",
    "\n",
    "# create trackbars for color change\n",
    "cv2.createTrackbar('R1','image',0,255,nothing)\n",
    "cv2.createTrackbar('G1','image',0,255,nothing)\n",
    "cv2.createTrackbar('B1','image',0,255,nothing)\n",
    "cv2.createTrackbar('R2','image',255,255,nothing)\n",
    "cv2.createTrackbar('G2','image',255,255,nothing)\n",
    "cv2.createTrackbar('B2','image',255,255,nothing)\n",
    "\n",
    "# create switch for ON/OFF functionality\n",
    "switch = '0 : OFF \\n1 : ON'\n",
    "cv2.createTrackbar(switch, 'image',0,1,nothing)\n",
    "\n",
    "while(1):\n",
    "    cv2.imshow('image',th)\n",
    "    k = cv2.waitKey(1) & 0xFF\n",
    "    if k == 27:\n",
    "        break\n",
    "\n",
    "    # get current positions of four trackbars\n",
    "    r1 = cv2.getTrackbarPos('R1','image')\n",
    "    g1 = cv2.getTrackbarPos('G1','image')\n",
    "    b1 = cv2.getTrackbarPos('B1','image')\n",
    "    r2 = cv2.getTrackbarPos('R2','image')\n",
    "    g2 = cv2.getTrackbarPos('G2','image')\n",
    "    b2 = cv2.getTrackbarPos('B2','image')    \n",
    "    s = cv2.getTrackbarPos(switch,'image')\n",
    "\n",
    "    if s == 0:\n",
    "        th = img.copy()\n",
    "    else:\n",
    "        th = get_th_rgb(img_blur,r1,g1,b1,r2,g2,b2)\n",
    "        \n",
    "\n",
    "cv2.destroyAllWindows()\n",
    "print(\"{},{},{},{},{},{}\".format(r1,g1,b1,r2,g2,b2))"
   ]
  },
  {
   "cell_type": "markdown",
   "metadata": {},
   "source": [
    "## HSV用"
   ]
  },
  {
   "cell_type": "code",
   "execution_count": 10,
   "metadata": {},
   "outputs": [
    {
     "name": "stdout",
     "output_type": "stream",
     "text": [
      "0,0,0,255,255,250\n"
     ]
    }
   ],
   "source": [
    "# Create a window\n",
    "cv2.namedWindow('image')\n",
    "\n",
    "# create trackbars for color change\n",
    "cv2.createTrackbar('H1','image',0,255,nothing)\n",
    "cv2.createTrackbar('S1','image',0,255,nothing)\n",
    "cv2.createTrackbar('V1','image',0,255,nothing)\n",
    "cv2.createTrackbar('H2','image',255,255,nothing)\n",
    "cv2.createTrackbar('S2','image',255,255,nothing)\n",
    "cv2.createTrackbar('V2','image',255,255,nothing)\n",
    "\n",
    "# create switch for ON/OFF functionality\n",
    "switch = '0 : OFF \\n1 : ON'\n",
    "cv2.createTrackbar(switch, 'image',0,1,nothing)\n",
    "\n",
    "while(1):\n",
    "    cv2.imshow('image',th)\n",
    "    k = cv2.waitKey(1) & 0xFF\n",
    "    if k == 27:\n",
    "        break\n",
    "\n",
    "    # get current positions of four trackbars\n",
    "    h1 = cv2.getTrackbarPos('H1','image')\n",
    "    s1 = cv2.getTrackbarPos('S1','image')\n",
    "    v1 = cv2.getTrackbarPos('V1','image')\n",
    "    h2 = cv2.getTrackbarPos('H2','image')\n",
    "    s2 = cv2.getTrackbarPos('S2','image')\n",
    "    v2 = cv2.getTrackbarPos('V2','image')    \n",
    "    s = cv2.getTrackbarPos(switch,'image')\n",
    "\n",
    "    if s == 0:\n",
    "        th = img\n",
    "    else:\n",
    "        th = get_th_hsv(img_blur,h1,s1,v1,h2,s2,v2)\n",
    "        \n",
    "\n",
    "cv2.destroyAllWindows()\n",
    "print(\"{},{},{},{},{},{}\".format(h1,s1,v1,h2,s2,v2))"
   ]
  },
  {
   "cell_type": "markdown",
   "metadata": {},
   "source": [
    "## Asaptive用"
   ]
  },
  {
   "cell_type": "code",
   "execution_count": 19,
   "metadata": {},
   "outputs": [
    {
     "name": "stdout",
     "output_type": "stream",
     "text": [
      "0,0\n"
     ]
    }
   ],
   "source": [
    "# Create a window\n",
    "cv2.namedWindow('image')\n",
    "\n",
    "# create trackbars for color change\n",
    "cv2.createTrackbar('BS','image',0,255,nothing)\n",
    "cv2.createTrackbar('C','image',0,30,nothing)\n",
    "cv2.createTrackbar('Blur','image',0,50,nothing)\n",
    "\n",
    "# create switch for ON/OFF functionality\n",
    "switch = '0 : OFF \\n1 : ON'\n",
    "cv2.createTrackbar(switch, 'image',0,1,nothing)\n",
    "\n",
    "while(1):\n",
    "    cv2.imshow('image',th)\n",
    "    k = cv2.waitKey(1) & 0xFF\n",
    "    if k == 27:\n",
    "        break\n",
    "\n",
    "    # get current positions of four trackbars\n",
    "    bs = cv2.getTrackbarPos('BS','image')\n",
    "    c  = cv2.getTrackbarPos('C','image')  \n",
    "    blur = cv2.getTrackbarPos('Blur','image')\n",
    "    s  = cv2.getTrackbarPos(switch,'image')\n",
    "    \n",
    "    img_blur   = cv2.GaussianBlur(img, (2*blur+1 ,2*blur+1), 0)\n",
    "    img_gray   = cv2.cvtColor(img_blur, cv2.COLOR_BGR2GRAY)\n",
    "    if s == 0:\n",
    "        th = img_blur\n",
    "    else:\n",
    "        if bs%2 == 0:\n",
    "            bs += 3\n",
    "        th = get_th_ad1(img_gray,bs,c)\n",
    "        \n",
    "\n",
    "cv2.destroyAllWindows()\n",
    "print(\"{},{}\".format(bs,c))"
   ]
  },
  {
   "cell_type": "code",
   "execution_count": null,
   "metadata": {},
   "outputs": [],
   "source": []
  },
  {
   "cell_type": "code",
   "execution_count": null,
   "metadata": {},
   "outputs": [],
   "source": []
  },
  {
   "cell_type": "code",
   "execution_count": null,
   "metadata": {},
   "outputs": [],
   "source": []
  }
 ],
 "metadata": {
  "kernelspec": {
   "display_name": "Python 3",
   "language": "python",
   "name": "python3"
  },
  "language_info": {
   "codemirror_mode": {
    "name": "ipython",
    "version": 3
   },
   "file_extension": ".py",
   "mimetype": "text/x-python",
   "name": "python",
   "nbconvert_exporter": "python",
   "pygments_lexer": "ipython3",
   "version": "3.6.7"
  }
 },
 "nbformat": 4,
 "nbformat_minor": 2
}
